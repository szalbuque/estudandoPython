{
  "nbformat": 4,
  "nbformat_minor": 0,
  "metadata": {
    "colab": {
      "name": "key arguments.ipynb",
      "provenance": [],
      "authorship_tag": "ABX9TyP5BUstqQy97OFNewB7S5SH",
      "include_colab_link": true
    },
    "kernelspec": {
      "name": "python3",
      "display_name": "Python 3"
    },
    "language_info": {
      "name": "python"
    }
  },
  "cells": [
    {
      "cell_type": "markdown",
      "metadata": {
        "id": "view-in-github",
        "colab_type": "text"
      },
      "source": [
        "<a href=\"https://colab.research.google.com/github/szalbuque/estudandoPython/blob/main/key_arguments.ipynb\" target=\"_parent\"><img src=\"https://colab.research.google.com/assets/colab-badge.svg\" alt=\"Open In Colab\"/></a>"
      ]
    },
    {
      "cell_type": "markdown",
      "source": [
        "Criando uma função cujos argumentos são informados em conjuntos chave:valor"
      ],
      "metadata": {
        "id": "uAT5HaG3LmzK"
      }
    },
    {
      "cell_type": "code",
      "execution_count": 4,
      "metadata": {
        "id": "hxTjL7AfLixj"
      },
      "outputs": [],
      "source": [
        "def calcula_salario(salario_base,**outras_parcelas):\n",
        "  print(outras_parcelas)\n",
        "  salario_total = salario_base\n",
        "  if 'descontoIR' in outras_parcelas:\n",
        "    salario_total -= outras_parcelas['descontoIR']\n",
        "  if 'ferias' in outras_parcelas:\n",
        "    salario_total += outras_parcelas['ferias']\n",
        "  return salario_total"
      ]
    },
    {
      "cell_type": "code",
      "source": [
        "print (calcula_salario(1000, descontoIR = 100, ferias = 300))"
      ],
      "metadata": {
        "colab": {
          "base_uri": "https://localhost:8080/"
        },
        "id": "K-s1ICOQMvuJ",
        "outputId": "3aba4221-709a-4ac7-cea8-7f1191ffab97"
      },
      "execution_count": 5,
      "outputs": [
        {
          "output_type": "stream",
          "name": "stdout",
          "text": [
            "{'descontoIR': 100, 'ferias': 300}\n",
            "1200\n"
          ]
        }
      ]
    }
  ]
}