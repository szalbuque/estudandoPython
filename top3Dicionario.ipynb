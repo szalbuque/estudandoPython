{
  "nbformat": 4,
  "nbformat_minor": 0,
  "metadata": {
    "colab": {
      "name": "top3Dicionario.ipynb",
      "provenance": [],
      "collapsed_sections": [],
      "authorship_tag": "ABX9TyPHBwkiYLQhT2Yn4Qhe63Hf",
      "include_colab_link": true
    },
    "kernelspec": {
      "name": "python3",
      "display_name": "Python 3"
    },
    "language_info": {
      "name": "python"
    }
  },
  "cells": [
    {
      "cell_type": "markdown",
      "metadata": {
        "id": "view-in-github",
        "colab_type": "text"
      },
      "source": [
        "<a href=\"https://colab.research.google.com/github/szalbuque/estudandoPython/blob/main/top3Dicionario.ipynb\" target=\"_parent\"><img src=\"https://colab.research.google.com/assets/colab-badge.svg\" alt=\"Open In Colab\"/></a>"
      ]
    },
    {
      "cell_type": "markdown",
      "source": [
        "Descobrir os top 3 de um dicionário Python:\n",
        "* Usando o módulo Collections:\n",
        "https://docs.python.org/3/library/collections.html\n"
      ],
      "metadata": {
        "id": "KHRMW8OhUkjG"
      }
    },
    {
      "cell_type": "code",
      "execution_count": 7,
      "metadata": {
        "colab": {
          "base_uri": "https://localhost:8080/"
        },
        "id": "tlN6aIjuUjLn",
        "outputId": "26fb4dc6-eb78-4033-b710-61529c7055ae"
      },
      "outputs": [
        {
          "output_type": "stream",
          "name": "stdout",
          "text": [
            "Os vendedores top 3 foram:\n",
            "Nome: Total de vendas\n",
            "Eustáquio  : 86745  \n",
            "Celeste  : 85432  \n",
            "Ana  : 45621  \n"
          ]
        }
      ],
      "source": [
        "from collections import Counter\n",
        "dict = {'Joao':13456,'Ana':45621,'Eustáquio':86745, 'Celeste':85432, 'Bianca':23412}\n",
        "aux = Counter(dict)\n",
        "# o método most_commom gera uma lista de tuplas que contém as duplas chave:valor ordenadas em ordem decrescente do valor\n",
        "top3 = aux.most_common(3)\n",
        "print(\"Os vendedores top 3 foram:\")\n",
        "print(\"Nome: Total de vendas\")\n",
        "for i in top3:\n",
        "  print(i[0],\" :\",i[1],\" \")"
      ]
    }
  ]
}