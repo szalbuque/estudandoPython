{
  "nbformat": 4,
  "nbformat_minor": 0,
  "metadata": {
    "colab": {
      "name": "somatorio.ipynb",
      "provenance": [],
      "authorship_tag": "ABX9TyM+OfhkmFpMVSHw72aVit16",
      "include_colab_link": true
    },
    "kernelspec": {
      "name": "python3",
      "display_name": "Python 3"
    },
    "language_info": {
      "name": "python"
    }
  },
  "cells": [
    {
      "cell_type": "markdown",
      "metadata": {
        "id": "view-in-github",
        "colab_type": "text"
      },
      "source": [
        "<a href=\"https://colab.research.google.com/github/szalbuque/estudandoPython/blob/main/somatorio.ipynb\" target=\"_parent\"><img src=\"https://colab.research.google.com/assets/colab-badge.svg\" alt=\"Open In Colab\"/></a>"
      ]
    },
    {
      "cell_type": "code",
      "execution_count": 1,
      "metadata": {
        "id": "T4EF3WxFHCTU"
      },
      "outputs": [],
      "source": [
        "def somatorio(*numeros):\n",
        "  soma = 0\n",
        "  for numero in numeros:\n",
        "    soma += numero\n",
        "  return soma"
      ]
    },
    {
      "cell_type": "code",
      "source": [
        "print(somatorio(1,2,3,5,5))"
      ],
      "metadata": {
        "colab": {
          "base_uri": "https://localhost:8080/"
        },
        "id": "mmv1AUZqHgpI",
        "outputId": "e0d94770-4524-493e-cbc7-f4f4a1cee554"
      },
      "execution_count": 3,
      "outputs": [
        {
          "output_type": "stream",
          "name": "stdout",
          "text": [
            "16\n"
          ]
        }
      ]
    }
  ]
}