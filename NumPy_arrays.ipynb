{
  "nbformat": 4,
  "nbformat_minor": 0,
  "metadata": {
    "colab": {
      "name": "NumPy arrays.ipynb",
      "provenance": []
    },
    "kernelspec": {
      "name": "python3",
      "display_name": "Python 3"
    },
    "language_info": {
      "name": "python"
    }
  },
  "cells": [
    {
      "cell_type": "markdown",
      "source": [
        "## **Arrays** são estruturas de dados semelhantes às listas do Python, mas não tão flexíveis. Em um **array todos os elementos devem ser de um mesmo tipo, tipicamente numérico, como int ou float**. Além disso, **o tamanho de um array não pode ser modificado**, ao contrário de listas que podem crescer dinamicamente."
      ],
      "metadata": {
        "id": "neCMlSSMlmfj"
      }
    },
    {
      "cell_type": "markdown",
      "source": [
        "O **NumPy** define a **classe ndarray** (N-Dimensional Array) para encapsular **arrays de n dimensões**. Os arrays do NumPy tem tamanho fixo, assim, para se mudar o tamanho de um ndarray, cria-se um novo array e o original é removido."
      ],
      "metadata": {
        "id": "YENi9CTIl7-q"
      }
    },
    {
      "cell_type": "markdown",
      "source": [
        "Um array em NumPy é uma tabela multidimensional de elementos do mesmo tipo, indexados por uma tupla de inteiros positivos. As dimensões são chamadas de eixos (axes).\n",
        "\n",
        "A classe básica é o ndarray que também tem o apelido de array. Note que o numpy.array é diferente do tipo nativo do Python array.array que só manipula arrays de uma dimensão e apresenta menos funcionalidades."
      ],
      "metadata": {
        "id": "S4WOwjurmkzj"
      }
    },
    {
      "cell_type": "markdown",
      "source": [
        "**Principais atributos da ndarray**\n",
        "\n",
        "**ndarray.ndim**: um inteiro que corresponde ao número de eixos (dimensões) do array.\n",
        "\n",
        "**ndarray.shape**: uma tupla contendo as dimensões do array, ou comprimento do array em cada eixo. O comprimento dessa tupla é o número de dimensões ndim.\n",
        "\n",
        "**ndarray.size**: número total de elementos no array. Equivale ao produto dos elementos de shape.\n",
        "\n",
        "**ndarray.dtype**: descreve o tipo dos elementos do array. Além dos tipos nativos do Python, como int e float, o NumPy oferece seus próprios tipos, como numpy.int32, numpy.int16, numpy.float64, etc.\n",
        "\n",
        "**ndarray.itemsize**: indica o tamanho de cada elemento do array em bytes. Por exemplo, para elementos do tipo numpy.float64, o tamanho em 8 bytes (= 64 bits / 8 bits)."
      ],
      "metadata": {
        "id": "v7zzb5vrm81d"
      }
    },
    {
      "cell_type": "code",
      "source": [
        "import numpy as np\n",
        "'''uma lista (matriz 2x3):'''\n",
        "a = [[1,2,3],[4,5,6]]\n",
        "'''um array criado a partir desta lista'''\n",
        "b = np.array(a)\n",
        "print(a)\n",
        "print(b)\n",
        "print(type(a))\n",
        "print(type(b))"
      ],
      "metadata": {
        "colab": {
          "base_uri": "https://localhost:8080/"
        },
        "id": "0sMYs5CnnN9s",
        "outputId": "f4b6951e-9f08-459c-d2f7-7250d1018750"
      },
      "execution_count": null,
      "outputs": [
        {
          "output_type": "stream",
          "name": "stdout",
          "text": [
            "[[1, 2, 3], [4, 5, 6]]\n",
            "[[1 2 3]\n",
            " [4 5 6]]\n",
            "<class 'list'>\n",
            "<class 'numpy.ndarray'>\n"
          ]
        }
      ]
    },
    {
      "cell_type": "code",
      "source": [
        "import numpy as np\n",
        "'''posso criar o array especificando o tipo dos seus elementos'''\n",
        "'''uma lista (matriz 2x3):'''\n",
        "a = [[1,2,3],[4,5,6]]\n",
        "'''um array criado a partir desta lista, com elementos do tipo float'''\n",
        "b = np.array(a,float)\n",
        "print(b)"
      ],
      "metadata": {
        "colab": {
          "base_uri": "https://localhost:8080/"
        },
        "id": "NMQ65RS4zep_",
        "outputId": "69f76402-3245-48f6-eb89-add6316156f4"
      },
      "execution_count": null,
      "outputs": [
        {
          "output_type": "stream",
          "name": "stdout",
          "text": [
            "[[1. 2. 3.]\n",
            " [4. 5. 6.]]\n"
          ]
        }
      ]
    },
    {
      "cell_type": "code",
      "source": [
        "import numpy as np\n",
        "'''atributos da classe ndarray'''\n",
        "'''(a) é um array bidimensional, tem 3 linhas e 2 colunas (3x2)'''\n",
        "a = np.array([[1,2],[4,5],[7,8]])\n",
        "print(a)\n",
        "'''o atributo ndim mostra o número de dimensões do array'''\n",
        "print('o array tem:',a.ndim,' dimensões')\n",
        "'''o atributo shape mostra o tamanho de cada dimensão do array'''\n",
        "print('número de linhas e colunas do array:',a.shape)\n",
        "'''o atributo size mostra o número de elemento do array'''\n",
        "print('o array tem:',a.size,'elementos.')\n"
      ],
      "metadata": {
        "colab": {
          "base_uri": "https://localhost:8080/"
        },
        "id": "w3Ye95fNdEnj",
        "outputId": "f31baa75-aada-4a07-809f-6a0e7a098a43"
      },
      "execution_count": null,
      "outputs": [
        {
          "output_type": "stream",
          "name": "stdout",
          "text": [
            "[[1 2]\n",
            " [4 5]\n",
            " [7 8]]\n",
            "o array tem: 2  dimensões\n",
            "número de linhas e colunas do array: (3, 2)\n",
            "o array tem: 6 elementos.\n"
          ]
        }
      ]
    },
    {
      "cell_type": "code",
      "source": [
        "import numpy as np\n",
        "a = np.array([[1,2],[4,5],[7,8]])\n",
        "print(a)\n",
        "print('o array tem:',a.ndim,' dimensões')\n",
        "print('nº de linhas e colunas:',a.shape)\n",
        "print('o array tem:',a.size,'elementos.')"
      ],
      "metadata": {
        "colab": {
          "base_uri": "https://localhost:8080/"
        },
        "id": "kS1594XRhlDS",
        "outputId": "15775dfc-01c5-493a-b4a9-df780b852a8d"
      },
      "execution_count": null,
      "outputs": [
        {
          "output_type": "stream",
          "name": "stdout",
          "text": [
            "[[1 2]\n",
            " [4 5]\n",
            " [7 8]]\n",
            "o array tem: 2  dimensões\n",
            "nº de linhas e colunas: (3, 2)\n",
            "o array tem: 6 elementos.\n"
          ]
        }
      ]
    },
    {
      "cell_type": "markdown",
      "source": [
        "# OPERAÇÕES COM **NP.ARRAY**"
      ],
      "metadata": {
        "id": "zEyIn-12Ae9R"
      }
    },
    {
      "cell_type": "code",
      "source": [
        "import numpy as np\n",
        "a = np.array([2,3,4])\n",
        "b = np.array([1,1,1])\n",
        "c = a + b\n",
        "print (c)"
      ],
      "metadata": {
        "colab": {
          "base_uri": "https://localhost:8080/"
        },
        "id": "RW-b_SjAAksi",
        "outputId": "1afa5a6d-6df9-4fee-838c-777e034c98ce"
      },
      "execution_count": null,
      "outputs": [
        {
          "output_type": "stream",
          "name": "stdout",
          "text": [
            "[3 4 5]\n"
          ]
        }
      ]
    },
    {
      "cell_type": "markdown",
      "source": [
        ""
      ],
      "metadata": {
        "id": "E7VbsSKOlt68"
      }
    }
  ]
}