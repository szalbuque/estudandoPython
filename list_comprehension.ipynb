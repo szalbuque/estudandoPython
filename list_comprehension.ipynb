{
  "nbformat": 4,
  "nbformat_minor": 0,
  "metadata": {
    "colab": {
      "name": "list comprehension.ipynb",
      "provenance": [],
      "authorship_tag": "ABX9TyMPfonZwh+i88RekacMFR1W",
      "include_colab_link": true
    },
    "kernelspec": {
      "name": "python3",
      "display_name": "Python 3"
    },
    "language_info": {
      "name": "python"
    }
  },
  "cells": [
    {
      "cell_type": "markdown",
      "metadata": {
        "id": "view-in-github",
        "colab_type": "text"
      },
      "source": [
        "<a href=\"https://colab.research.google.com/github/szalbuque/estudandoPython/blob/main/list_comprehension.ipynb\" target=\"_parent\"><img src=\"https://colab.research.google.com/assets/colab-badge.svg\" alt=\"Open In Colab\"/></a>"
      ]
    },
    {
      "cell_type": "markdown",
      "source": [
        "**List comprehension oferece uma <br>\n",
        "sintaxe mais curta quando se deseja<br>\n",
        " criar uma lista baseada em valores de outra lista.**"
      ],
      "metadata": {
        "id": "ynR0Ge15eZo8"
      }
    },
    {
      "cell_type": "markdown",
      "source": [
        "Abaixo, usaremos isso para criar uma lista<br> contendo somente as palavras que contém a letra 'a'."
      ],
      "metadata": {
        "id": "G2UFkM8ig0UL"
      }
    },
    {
      "cell_type": "code",
      "execution_count": 3,
      "metadata": {
        "colab": {
          "base_uri": "https://localhost:8080/"
        },
        "id": "FviPxeyneOw1",
        "outputId": "cd61c40c-c6c9-4f3d-8c72-28f5e14c7b18"
      },
      "outputs": [
        {
          "output_type": "stream",
          "name": "stdout",
          "text": [
            "['abacaxi', 'antes', 'abóbora']\n"
          ]
        }
      ],
      "source": [
        "lista1 = ['abacaxi','verde','antes',\n",
        "          'abóbora','sobre','elétrico'\n",
        "          ,'ovo']\n",
        "lista2 = [palavra for palavra in lista1 \n",
        "          if 'a' in palavra]\n",
        "print(lista2)"
      ]
    }
  ]
}