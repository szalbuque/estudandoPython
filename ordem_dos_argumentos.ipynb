{
  "nbformat": 4,
  "nbformat_minor": 0,
  "metadata": {
    "colab": {
      "name": "ordem dos argumentos.ipynb",
      "provenance": [],
      "authorship_tag": "ABX9TyNXnC0It0GkRADZBpyWpcCW",
      "include_colab_link": true
    },
    "kernelspec": {
      "name": "python3",
      "display_name": "Python 3"
    },
    "language_info": {
      "name": "python"
    }
  },
  "cells": [
    {
      "cell_type": "markdown",
      "metadata": {
        "id": "view-in-github",
        "colab_type": "text"
      },
      "source": [
        "<a href=\"https://colab.research.google.com/github/szalbuque/estudandoPython/blob/main/ordem_dos_argumentos.ipynb\" target=\"_parent\"><img src=\"https://colab.research.google.com/assets/colab-badge.svg\" alt=\"Open In Colab\"/></a>"
      ]
    },
    {
      "cell_type": "markdown",
      "source": [
        "Ao criar uma função, os argumentos precisam seguir a seguinte ordem:\n",
        "\n",
        "\n",
        "*   Primeiro os argumentos posicionais definidos\n",
        "*   Depois os argumentos posicionais indefinidos\n",
        "\n",
        "\n",
        "*   Depois os argumentos de palavra-chave definidos\n",
        "*   por último, os argumentos de palavra-chave indefinidos\n",
        "\n",
        "\n",
        "\n"
      ],
      "metadata": {
        "id": "3H5acyWKOhsF"
      }
    },
    {
      "cell_type": "code",
      "execution_count": 1,
      "metadata": {
        "id": "vSATjp2aOfTk"
      },
      "outputs": [],
      "source": [
        "def função_exemplo(arg1,*args, kwarg1, **kwargs):\n",
        "  print ('argumento posicional definido :',arg1)\n",
        "  print ('argumentos posicionais indefinidos:',args)\n",
        "  print ('argumento chave definido:',kwarg1)\n",
        "  print ('argumentos-chave indefinidos:',kwargs)"
      ]
    },
    {
      "cell_type": "code",
      "source": [
        "função_exemplo(10,20,30,kwarg1=40,key1=50,key2=60)"
      ],
      "metadata": {
        "colab": {
          "base_uri": "https://localhost:8080/"
        },
        "id": "jpE5tSmRP9lg",
        "outputId": "33f8b4df-4442-41f4-d47b-620fcc82db58"
      },
      "execution_count": 2,
      "outputs": [
        {
          "output_type": "stream",
          "name": "stdout",
          "text": [
            "argumento posicional definido : 10\n",
            "argumentos posicionais indefinidos: (20, 30)\n",
            "argumento chave definido: 40\n",
            "argumentos-chave indefinidos: {'key1': 50, 'key2': 60}\n"
          ]
        }
      ]
    }
  ]
}