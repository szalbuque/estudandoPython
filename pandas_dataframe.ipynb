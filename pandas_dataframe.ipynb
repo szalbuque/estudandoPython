{
  "nbformat": 4,
  "nbformat_minor": 0,
  "metadata": {
    "colab": {
      "name": "pandas dataframe.ipynb",
      "provenance": []
    },
    "kernelspec": {
      "name": "python3",
      "display_name": "Python 3"
    },
    "language_info": {
      "name": "python"
    }
  },
  "cells": [
    {
      "cell_type": "markdown",
      "source": [
        "**class pandas.DataFrame(data=None, index=None, columns=None, dtype=None, copy=None)**\n",
        "\n",
        "Two-dimensional, size-mutable, potentially heterogeneous tabular data.\n",
        "\n",
        "Estrutura de dados bidimensional, potencialmente heterogênea, cujo tamanho pode variar.\n",
        "É a estrutura de dados primária da biblioteca Pandas.\n",
        "Contém eixos (linhas e colunas) rotuladas."
      ],
      "metadata": {
        "id": "m8J2AFmfk1Uv"
      }
    },
    {
      "cell_type": "code",
      "source": [
        "import pandas as pd\n",
        "capital={'RJ':'Rio de Janeiro','MG':'Belo Horizonte','ES':'Vitória'}\n",
        "df = pd.DataFrame(data=capital, index=['Capital'])\n",
        "print(df)\n",
        "print('Eixos:',df.axes)\n",
        "print('Colunas:',df.columns)\n",
        "print('Linhas (índices):',df.index)\n",
        "print('Número de dimensões:',df.ndim)\n",
        "print('Número de elementos:',df.size)"
      ],
      "metadata": {
        "colab": {
          "base_uri": "https://localhost:8080/"
        },
        "id": "b3cQ6-hbkQD0",
        "outputId": "88edc0fa-d408-45f0-f616-9e4c020df506"
      },
      "execution_count": null,
      "outputs": [
        {
          "output_type": "stream",
          "name": "stdout",
          "text": [
            "                     RJ              MG       ES\n",
            "Capital  Rio de Janeiro  Belo Horizonte  Vitória\n",
            "Eixos: [Index(['Capital'], dtype='object'), Index(['RJ', 'MG', 'ES'], dtype='object')]\n",
            "Colunas: Index(['RJ', 'MG', 'ES'], dtype='object')\n",
            "Linhas (índices): Index(['Capital'], dtype='object')\n",
            "Número de dimensões: 2\n",
            "Número de elementos: 3\n"
          ]
        }
      ]
    },
    {
      "cell_type": "code",
      "source": [
        "import pandas as pd\n",
        "alunos = {'Nome':['Ricardo','Pedro','Roberto','Carlos'],\n",
        "'Nota':[4,7,5.5,9],\n",
        "'Aprovado':['Não','Sim','Não','Sim']}\n",
        "#cria o dataframe a partir do dicionário alunos\n",
        "df = pd.DataFrame(data=alunos)\n",
        "print(df)\n"
      ],
      "metadata": {
        "colab": {
          "base_uri": "https://localhost:8080/"
        },
        "id": "KTlItZHUoNQn",
        "outputId": "bc8f7870-dd5e-40ee-a51e-b44b965b471b"
      },
      "execution_count": null,
      "outputs": [
        {
          "output_type": "stream",
          "name": "stdout",
          "text": [
            "      Nome  Nota Aprovado\n",
            "0  Ricardo   4.0      Não\n",
            "1    Pedro   7.0      Sim\n",
            "2  Roberto   5.5      Não\n",
            "3   Carlos   9.0      Sim\n"
          ]
        }
      ]
    }
  ]
}